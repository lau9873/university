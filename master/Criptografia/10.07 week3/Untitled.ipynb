{
 "cells": [
  {
   "cell_type": "code",
   "execution_count": 5,
   "id": "f5e9a236",
   "metadata": {},
   "outputs": [
    {
     "ename": "ModuleNotFoundError",
     "evalue": "No module named 'cryptography'",
     "output_type": "error",
     "traceback": [
      "\u001b[0;31m---------------------------------------------------------------------------\u001b[0m",
      "\u001b[0;31mModuleNotFoundError\u001b[0m                       Traceback (most recent call last)",
      "\u001b[0;32m/var/folders/vb/kghz7_1s13q5mc86mlsymsw00000gn/T/ipykernel_19095/1662394522.py\u001b[0m in \u001b[0;36m<module>\u001b[0;34m\u001b[0m\n\u001b[1;32m      1\u001b[0m \u001b[0;31m# Python Module ciphersuite\u001b[0m\u001b[0;34m\u001b[0m\u001b[0;34m\u001b[0m\u001b[0m\n\u001b[1;32m      2\u001b[0m \u001b[0;32mimport\u001b[0m \u001b[0mos\u001b[0m\u001b[0;34m\u001b[0m\u001b[0;34m\u001b[0m\u001b[0m\n\u001b[0;32m----> 3\u001b[0;31m \u001b[0;32mfrom\u001b[0m \u001b[0mcryptography\u001b[0m\u001b[0;34m.\u001b[0m\u001b[0mhazmat\u001b[0m\u001b[0;34m.\u001b[0m\u001b[0mprimitives\u001b[0m\u001b[0;34m.\u001b[0m\u001b[0mciphers\u001b[0m \u001b[0;32mimport\u001b[0m \u001b[0mCipher\u001b[0m\u001b[0;34m,\u001b[0m \u001b[0malgorithms\u001b[0m\u001b[0;34m,\u001b[0m \u001b[0mmodes\u001b[0m\u001b[0;34m\u001b[0m\u001b[0;34m\u001b[0m\u001b[0m\n\u001b[0m\u001b[1;32m      4\u001b[0m \u001b[0;34m\u001b[0m\u001b[0m\n\u001b[1;32m      5\u001b[0m \u001b[0;31m# Use crypto random generation to get a key with length n\u001b[0m\u001b[0;34m\u001b[0m\u001b[0;34m\u001b[0m\u001b[0m\n",
      "\u001b[0;31mModuleNotFoundError\u001b[0m: No module named 'cryptography'"
     ]
    }
   ],
   "source": [
    "# Python Module ciphersuite\n",
    "import os\n",
    "from cryptography.hazmat.primitives.ciphers import Cipher, algorithms, modes\n",
    "\n",
    "# Use crypto random generation to get a key with length n\n",
    "def gen(): \n",
    "\trkey = bytearray(os.urandom(16))\n",
    "\tfor i in range(16): rkey[i] = rkey[i] & 1\n",
    "\treturn bytes(rkey)\n",
    "\n",
    "# Bitwise XOR operation.\n",
    "def enc(k, m):\n",
    "\tcipher = Cipher(algorithms.AES(k), modes.ECB())\n",
    "\tencryptor = cipher.encryptor()\n",
    "\tcph = b\"\"\n",
    "\tfor ch in m:\n",
    "\t\tcph += encryptor.update((ch*16).encode())\n",
    "\tcph += encryptor.finalize()\n",
    "\treturn cph\n",
    "\n",
    "\n",
    "# Reverse operation\n",
    "def dec(k, c):\n",
    "\tassert len(c) % 16 == 0\n",
    "\tcipher = Cipher(algorithms.AES(k), modes.ECB())\n",
    "\tdecryptor = cipher.decryptor()\n",
    "\tblocks = len(c)//16\n",
    "\tmsg = b\"\"\n",
    "\tfor i in range(0,(blocks)):\n",
    "\t\tmsg+=decryptor.update(c[i*16:(i+1)*16])\n",
    "\t\tmsg=msg[:-15]\n",
    "\tmsg += decryptor.finalize()\n",
    "\treturn msg"
   ]
  },
  {
   "cell_type": "code",
   "execution_count": null,
   "id": "1fba5315",
   "metadata": {},
   "outputs": [],
   "source": []
  },
  {
   "cell_type": "code",
   "execution_count": null,
   "id": "2f4055e8",
   "metadata": {},
   "outputs": [],
   "source": []
  }
 ],
 "metadata": {
  "kernelspec": {
   "display_name": "Python 3 (ipykernel)",
   "language": "python",
   "name": "python3"
  },
  "language_info": {
   "codemirror_mode": {
    "name": "ipython",
    "version": 3
   },
   "file_extension": ".py",
   "mimetype": "text/x-python",
   "name": "python",
   "nbconvert_exporter": "python",
   "pygments_lexer": "ipython3",
   "version": "3.10.3"
  }
 },
 "nbformat": 4,
 "nbformat_minor": 5
}
