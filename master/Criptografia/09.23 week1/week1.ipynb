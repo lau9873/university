{
 "cells": [
  {
   "cell_type": "markdown",
   "id": "689c0814",
   "metadata": {},
   "source": [
    "# Three classic encripted messages with increasing security\n",
    "\n",
    "\n",
    "\n",
    "## 1 - A monoalphabetical cipher\n",
    "\n",
    "The first one \"msg1\" is the result of applying a simple mono-alphabetic transformation.\n",
    "\n",
    "Statistics for the occurence of each character in texts of this kind (portuguese) are given by the dictionary PTstats\n",
    "\n",
    "### Before executing *anything* you need to obtain a file named \"work??.py\" and rename it as \"data.py\"."
   ]
  },
  {
   "cell_type": "code",
   "execution_count": 1,
   "id": "c3b199f3",
   "metadata": {},
   "outputs": [
    {
     "data": {
      "image/png": "[encoded data removed]",
      "text/plain": [
       "Graphics object consisting of 1 graphics primitive"
      ]
     },
     "metadata": {},
     "output_type": "display_data"
    }
   ],
   "source": [
    "import string\n",
    "\n",
    "from data import *\n",
    "\n",
    "\n",
    "display(bar_chart([Stats[c] for c in string.ascii_lowercase]))"
   ]
  },
  {
   "cell_type": "markdown",
   "id": "daeadb3a",
   "metadata": {},
   "source": [
    "The message was converted to a numerical code: 'a'->1, 'b'->2,..."
   ]
  },
  {
   "cell_type": "markdown",
   "id": "8efa1a08",
   "metadata": {},
   "source": [
    "### It should be quite easy to decript this message without almost any programming involved"
   ]
  },
  {
   "cell_type": "code",
   "execution_count": 2,
   "id": "8a45f9ec",
   "metadata": {},
   "outputs": [
    {
     "data": {
      "image/png": "[encoded data removed]",
      "text/plain": [
       "Graphics object consisting of 1 graphics primitive"
      ]
     },
     "metadata": {},
     "output_type": "display_data"
    },
    {
     "name": "stdout",
     "output_type": "stream",
     "text": [
      "{'w': 0.000463854585819342, 'y': 0.000539614263910087, 'k': 0.000818787290134591, 'x': 0.00240197030664632, 'z': 0.0032743166366033, 'j': 0.00352573886499237, 'h': 0.00713098376578327, 'q': 0.00836325794366588, 'b': 0.00992854169557375, 'f': 0.010520743721382, 'g': 0.0126298043568753, 'v': 0.0133593728319689, 'l': 0.0286513112251977, 'p': 0.0291236298043569, 'u': 0.0385138060219231, 'm': 0.0414230609130012, 'c': 0.0447716109338143, 't': 0.0495047870126266, 'n': 0.0538477868738726, 'd': 0.0558000555015957, 'r': 0.069451089218815, 'i': 0.0698455668100458, 's': 0.0782698765089496, 'o': 0.108550992091023, 'e': 0.120706257804912, 'a': 0.138583183016512}\n",
      "{4: 0, 12: 0, 17: 1, 26: 1, 25: 5, 7: 8, 2: 9, 19: 9, 10: 11, 23: 12, 21: 14, 14: 21, 11: 24, 5: 27, 15: 30, 1: 35, 6: 39, 20: 49, 9: 51, 13: 52, 24: 66, 16: 77, 3: 82, 18: 96, 22: 136, 8: 145}\n"
     ]
    }
   ],
   "source": [
    "import numpy as np \n",
    "\n",
    "d=dict()\n",
    "\n",
    "for i in range(1,27):\n",
    "    d[i] = 0\n",
    "\n",
    "for i in msg1:\n",
    "    d[i] += 1\n",
    "\n",
    "    \n",
    "#print(d)\n",
    "display(bar_chart([d[i] for i in range(1,27)]))\n",
    "#display(bar_chart([Stats[c] for c in string.ascii_lowercase]))\n",
    "print({k: v for k, v in sorted(Stats.items(), key=lambda item: item[1])})\n",
    "print({k: v for k, v in sorted(d.items(), key=lambda item: item[1])})\n"
   ]
  },
  {
   "cell_type": "code",
   "execution_count": 3,
   "id": "567233cd",
   "metadata": {},
   "outputs": [],
   "source": [
    "#for p in range (1000):\n",
    " #   print(chr(msg1[p]+96),end='')"
   ]
  },
  {
   "cell_type": "code",
   "execution_count": 4,
   "id": "db240d5a",
   "metadata": {},
   "outputs": [
    {
     "name": "stdout",
     "output_type": "stream",
     "text": [
      "oposicaoemminhapropriacasaondealgumqueinsisteemseralergicominhamiseravelvidameperguntaregularmenteenaohouvenadadebomquelhetenhaacontecidofredausterlitzevirginiakatherinemcmathsaonomesnadasignificamparaamaioriadaspessoasmasselhespusermosumasclaquetesnossapatosdaseumaoperacaodemagicaesurgemfredastaireegingerrogersoestiloeaeleganciaporexcelencianoreinodadancaaessereinoqueacinematecanostransportaaorecordardeadefevereironovedosdezfilmesquefizeramjuntoshojepresidentedarepublicamariosoaresfoiumdosadversariospoliticosdepintobalsemaoeranessaalturasecretariogeraldopartidosocialistaecomotalliderdaoposicaoparlamentaraogovernodaaliancademocraticaquebalsemaochefioudedejaneirodeadejunhoderenunciouaocargoadedezembrodemasmanteveseemfuncoesmaiscincomesesateapossedonovogovernoaposamortesubitadesacarneiroadedezembrodedezanospassadosmariosoaresescrevesobreoseuantigoadversariomastambemaliadoeamigoemmomentosqueelepropriofazquestaodeassinalardosdezfilmesquefredastaireegingerrogersinterpretaramdancaramjuntosva"
     ]
    }
   ],
   "source": [
    "for c in msg1:\n",
    "    letras=['c','q','s','w','l','t','z','e','d','h','p','y','n','g','u','r','k','o','b','m','v','a','f','i','j','x']\n",
    "    print(letras[c-1],end=\"\")"
   ]
  },
  {
   "cell_type": "markdown",
   "id": "1b1a00f3",
   "metadata": {},
   "source": [
    "#### msg1 desencriptada: \n",
    "oposicao em minha propria casa onde algum que insiste em ser alergico minha miseravel vida me pergunta regularmente e nao houve nada de bom que lhe tenha acontecido fred austerlitz e virginia katherine mcmath sao nomes nada significam para a maioria das pessoas mas se lhes pusermos umas claquetes nos sapatos da se uma operacao de magica e surgem fred astaire e ginger rogers o estilo e a elegancia por excelencia no reino da danca a esse reino que a cinema tecanos transporta ao recordar de a de fevereiro nove dos dez filmes que fizeram juntos hoje presidente da republica mario soares foi um dos adversarios politicos de pinto balsemao era nessa altura secretario geral do partido socialista e como tal lider da oposicao parlamentar ao governo da alianca democratica que balsemao chefiou de de janeiro de a de junho de renunciou ao cargo a de dez em brode mas manteve se em funcoes mais cinco meses ate a posse do novo governo apos a morte subita de sa carneiro a de dezembro de dez anos passados mario soares escreve sobre o seu antigo adversario mas tambem aliado e amigo em momentos que ele proprio faz questao de assinalar dos dez filmes que fred astaire e ginger rogers interpretaram dancaram juntos va"
   ]
  },
  {
   "cell_type": "markdown",
   "id": "730d160f",
   "metadata": {},
   "source": [
    "## 2 - A simple Vigenère message\n",
    "\n",
    "In the next message, \"msg2\", a simple Vigènere was used. The \"msg2\" was coded the same manner as \"msg1\". \n",
    "\n",
    "We suggest that you use the Friedman test to determine the period (the size of the key).\n",
    "\n",
    "Friedman proved that, for  a class of cyphers that includes Vigenère, given two (long) texts, $T$ and $T'$, of the same size ($|T|=|T'|$), and with the same coincidence index ($Ic(T)=Ic(T')$),  their correspondent cyphertexts $E(T)$ and $E(T')$ satisfy\n",
    "\n",
    "$$K(T,T')=\\sum_i \\frac{\\delta(E(T)_i,E(T')_i)}{|T|}\\sim Ic(T),$$\n",
    "where\n",
    "\n",
    "$$\\delta(a,b)=\\begin{cases}1& \\text{if }a=b,\\\\\n",
    "             0& \\text{otherwise,}\n",
    "        \\end{cases}$$\n",
    "$T_i$ denotes the $i$th letter of $T$, and $Ic(T)$ the coincidence index of $T$. \n",
    "\n",
    "\n",
    "Thus, if $P^j(T)$ denotes the $j$th circular permutation of $T$, and $C$ is criptogram resulting from applying a periodic cypher of period $p$, the succesion $(K(C,P^i(C))_i$ should have local maximums that differ by exactly $p$. \n",
    "\n",
    "Knowing the period, one can study the statistic of occurences of each $\\{C_{pi+j}\\mid i\\in\\mathbb{N}\\}_{j<p}$ that should be similar to the original statistic of the source message, only affected by the circular permutation corresponging to the acting character of the key used. \n",
    "\n",
    "The carefull observation of the referred statistics an some \"trial & error\" should be enough to crack the criptogram."
   ]
  },
  {
   "cell_type": "code",
   "execution_count": 5,
   "id": "48f8b51e",
   "metadata": {},
   "outputs": [
    {
     "data": {
      "text/plain": [
       "1000"
      ]
     },
     "execution_count": 5,
     "metadata": {},
     "output_type": "execute_result"
    }
   ],
   "source": [
    "len(msg2)"
   ]
  },
  {
   "cell_type": "code",
   "execution_count": 6,
   "id": "fb6821f5",
   "metadata": {
    "scrolled": true
   },
   "outputs": [],
   "source": [
    "#for p in range (1000):\n",
    " #   print(chr(msg2[p]+96),end='')"
   ]
  },
  {
   "cell_type": "code",
   "execution_count": 7,
   "id": "dbe4c228",
   "metadata": {
    "scrolled": true
   },
   "outputs": [
    {
     "name": "stdout",
     "output_type": "stream",
     "text": [
      "a chave divide:\n",
      "635,635,635,390,390,425,415,305,90,90,90,215,215,215,90,310,190,275,190,275,190,275,190,275,275,155,155,155,85,85,85,85,15,"
     ]
    }
   ],
   "source": [
    "print('a chave divide:')\n",
    "for p in range (997):\n",
    "    for q in range (996-p):\n",
    "        if [msg2[p],msg2[p+1],msg2[p+2],msg2[p+3]]==[msg2[p+q+1],msg2[p+q+2],msg2[p+q+3],msg2[p+q+4]]:\n",
    "            print(q+1,end=',')"
   ]
  },
  {
   "cell_type": "markdown",
   "id": "e0281740",
   "metadata": {},
   "source": [
    "Os divisores comuns são 5 e 1, logo a palavra deve ter comprimento 5.  "
   ]
  },
  {
   "cell_type": "code",
   "execution_count": 8,
   "id": "b236b2d1",
   "metadata": {
    "scrolled": true
   },
   "outputs": [
    {
     "name": "stdout",
     "output_type": "stream",
     "text": [
      "eportuguesestreiaseassimcomoprofissionalnoseupaisenoteatronacionaldedmariaiiparaasublimemariaseramaisumarepresentacaodezazouqueestahalargosmesesemcenaemparisparalisboaemaisdoqueissooregressomomentaneodafilhaprodigaapatriamadrastaevoracapitalnacionaldoteatroteratambemnafeiraasuaprimeiranoitedefestivaltextosdegilvicentereunidosporfernandomoraramosqueetambeminterpreteecoencenadorcommariobarradasdoespectaculointituladoclerigosealmocrevesquepoderaservistotambemnodiaseguintecarlomariagiulinisubiralogoanoiteaopodiodocoliseucomoumgrandesenhordeitaliaumpoucocomosevittoriodesicaentrassenumfilmedeviscontitornaseentaorealosonhodevereouviremportugalquemequicaomaiormaestrovivoemantecipadacomemoracaorecomendamosalgunsdosseusdiscosnossospreferidosquelhepermitiraolevargiuliniparasuacasagiuliniparecenoprincipiofadadoparaacarreiraoperaticacomotantosetaobonsmaestrositalianoseosseusprimeirosregistossaologomagistraisatraviatadeverditeveneleemomaestroaalturadacallasnumagravacaopiratacomdistefanoebastianiniqu"
     ]
    }
   ],
   "source": [
    "aux=[ord('p')-97,ord('e')-97,ord('f')-97,ord('v')-97,ord('i')-97]*200\n",
    "tab = [([0]*26) for i in range(26)]\n",
    "for p in range (26):\n",
    "      tab[p]=list(range(p,26))+list(range(p))\n",
    "msg2alt=copy(msg2)\n",
    "for t in range (1000):\n",
    "    msg2alt[t]=msg2[t]-1    \n",
    "\n",
    "msg2fin=copy(msg2alt)\n",
    "for q in range(1000):\n",
    "    for w in range(26):\n",
    "        if tab[w][aux[q]]==msg2alt[q]:\n",
    "            msg2fin[q]=chr(w+97)\n",
    "    print(msg2fin[q],end='')"
   ]
  },
  {
   "cell_type": "markdown",
   "id": "3dc684c8",
   "metadata": {},
   "source": [
    "#### chave de comprimento 5: pefvi\n",
    "#### msg2 desencriptada: \n",
    "e portugues estreia se assim como profissional no seu pais e no teatro nacional de d maria ii para a sublime maria sera mais uma representacao de zazou que esta ha largos meses em cena em paris para lisboa e mais do que isso o regresso momentaneo da filha prodiga a patria madrasta evora capital nacional do teatro tera tambem na feira a sua primeira noite de festival textos de gil vicente reunidos por fernando mora ramos que e tambem interprete e coencenador com mario barra das do espectaculo intitulado clerigos e almocreves que podera ser visto tambem no dia seguinte carlo maria giulini subira logo a noite ao podio do coliseu como um grande senhor de italia um pouco como sevittorio de sica entrasse num filme de visconti torna se entao real o sonho de ver e ouvirem portugal que mequicao maior maestro vivo em antecipada comemoracao recomendamos alguns dos seus discos nossos preferidos que lhe permitirao levar giulini para sua casa giulini parece no principio fadado para a carreira operatica como tantos e tao bons maestros italianos e os seus primeiros registos sao logo magistrais a traviata de verdite ve nele e momaestroa altura da callas numa gravacao pirata com di stefano e bastianini qu"
   ]
  },
  {
   "cell_type": "markdown",
   "id": "128a45f6",
   "metadata": {},
   "source": [
    "## 3 - Size of the key\n",
    "\n",
    "If the size of the cryptogram is kept as constant, the dificulty (on average) increases with the size of the key. \n",
    "\n",
    "In \"msg3\" a little more dificult to break cryptogram similar to \"msg2\" is here for you to try to crack."
   ]
  },
  {
   "cell_type": "code",
   "execution_count": 9,
   "id": "4f185062",
   "metadata": {},
   "outputs": [
    {
     "data": {
      "text/plain": [
       "1000"
      ]
     },
     "execution_count": 9,
     "metadata": {},
     "output_type": "execute_result"
    }
   ],
   "source": [
    "len(msg3)"
   ]
  },
  {
   "cell_type": "code",
   "execution_count": 10,
   "id": "3b02c3a3",
   "metadata": {},
   "outputs": [],
   "source": [
    "#for p in range (1000):\n",
    "   # print(chr(msg3[p]+96),end='')"
   ]
  },
  {
   "cell_type": "code",
   "execution_count": 11,
   "id": "5919c3a1",
   "metadata": {},
   "outputs": [
    {
     "name": "stdout",
     "output_type": "stream",
     "text": [
      "divisor de:\n",
      "420,420,84,84,264,552,552,552,300,264,228,228,"
     ]
    }
   ],
   "source": [
    "print('divisor de:')\n",
    "for p in range (997):\n",
    "    for q in range (996-p):\n",
    "        if [msg3[p],msg3[p+1],msg3[p+2],msg3[p+3]]==[msg3[p+q+1],msg3[p+q+2],msg3[p+q+3],msg3[p+q+4]]:\n",
    "            print(q+1,end=',')"
   ]
  },
  {
   "cell_type": "markdown",
   "id": "3a16a6b9",
   "metadata": {},
   "source": [
    "O mdc é 12, logo pode ter comprimento 1,2,3,4,6 ou 12."
   ]
  },
  {
   "cell_type": "code",
   "execution_count": 12,
   "id": "37c5579e",
   "metadata": {
    "scrolled": true
   },
   "outputs": [
    {
     "name": "stdout",
     "output_type": "stream",
     "text": [
      "issaoparlamentardenegociosestrangeirosdestinadaaanalisaraguerranogolfojoaodedeuspinheirotomouontemainiciativadedesdramatizararecentediligenciadiplomaticademariosoaresjuntodeyasserarafatfrizandoqueaatitudedopresidentedarepublicanaoprovocounenhumremoquenosparceiroscomunitariossemquealguemlhetenhasuscitadooassuntooministroinformouquenoultimoconselhodenegociosestrangeirosdaceeninguemlevantouproblemasrelativamenteainicitivadoprontemdemanhacrespochamouoaoseugabineteeexplicoulhesotertidoconhecimentonatercafeiraatardedosdoispedidosdedeslocacaooqueamaralestranhoujaqueteloaformalizadohaummesaogabinetedopresidentetaispedidossoteraonoentantochegadonasegundafeiraanoiteoquefundamentouajustificacaoparaoatrazodirigentesdamaiorianaopoupamnoentantovictorcrespoaacusacoesdeineficaciaoumavontadengelasilvaadelegacaodeluandatrouxeumcalendarioparaaconcretizacaodealgunspassosdademocratizacaoepretendesairdestarondanegocialcomumadataparaocessarfogoaunitaporemconsideraquenaoestamandatadaparataldebatenesteencontro"
     ]
    }
   ],
   "source": [
    "aux=[ord('f')-97,ord('w')-97,ord('q')-97,ord('i')-97,ord('r')-97,ord('t')-97,ord('u')-97,ord('n')-97,ord('c')-97,ord('p')-97,ord('h')-97,ord('m')-97]*1000\n",
    "tab = [([0]*26) for i in range(26)]\n",
    "for p in range (26):\n",
    "      tab[p]=list(range(p,26))+list(range(p))\n",
    "msg3alt=copy(msg3)\n",
    "for t in range (1000):\n",
    "    msg3alt[t]=msg3[t]-1    \n",
    "\n",
    "msg3fin=copy(msg3alt)\n",
    "for q in range(1000):\n",
    "    for w in range(26):\n",
    "        if tab[w][aux[q]]==msg3alt[q]:\n",
    "            msg3fin[q]=chr(w+97)\n",
    "    print(msg3fin[q],end='')"
   ]
  },
  {
   "cell_type": "markdown",
   "id": "8f56cd8a",
   "metadata": {},
   "source": [
    "#### chave de comprimento 12: fwqirtuncphm\n",
    "#### msg3 desencriptada: \n",
    "issao parlamentar de negocios estrangeiros destinada a analisar a guerra no golfo joao de deus pinheiro tomou ontem a iniciativa de desdramatizar a recente diligencia diplomatica de mario soares junto de yasser arafat frizando que a atitude do presidente da republica nao provocou nenhum remo que nos parceiros comunitarios sem que alguem lhe tenha suscitado o assunto o ministro informou que no ultimo conselho de negocios estrangeiros da cee ninguem levantou problemas relativamente a inicitiva do prontem de manha crespo chamou o ao seu gabinete e explicou lhe so ter tido conhecimento na terca feira a tarde dos dois pedidos de deslocacao o que amaral estranhou ja que te lo a formalizado ha um mes ao gabinete do presidente tais pedidos so terao no entanto chegado na segunda feira a noite o que fundamentou a justificacao para o atrazo dirigentes da maioria nao poupam no entanto victor crespo a acusacoes de ineficacia o uma vontade ngela silva a delegacao de luanda trouxe um calendario para a concretizacao de alguns passos da democratizacao e pretende sair desta ronda negocial comum a data para o cessar fogo a unita porem considera que nao esta mandatada para tal debate neste encontro"
   ]
  },
  {
   "cell_type": "markdown",
   "id": "ce38b812",
   "metadata": {},
   "source": [
    "## 4 - A more chalenging Vigenére\n",
    "\n",
    "In \"msg4\" is the result of applying another Vigenère but the result was embedded in a finite field, and thus the order of the original alphabet was not preserved.\n",
    "\n",
    "\n",
    "This means that the signature of frequencies of letters **will not be preserved** in the cryptogram, not even inside each  $S_i=\\{C_{pi+j}\\mid i\\in\\mathbb{N}\\}_{j<p}$. But it will be the same for all the $S_i$. For example. If $x$ and $y$ are images of two very frequent letters in the plaintext (say $a$ and $b$), then their distance will be preserved in the frequency bar-graph in every $S_i$. This sould allow you to crack this much more challenging cryptogram.\n",
    "\n",
    "**This cryptogram is not mandatory** for the current assignment. It is here for the more courageous to measure their own strength as crackers, and to understand that, altough \"easy\" to crack, these cyphers may need a good amount of preserverance to defeat (even quite simple ones like this)."
   ]
  },
  {
   "cell_type": "code",
   "execution_count": null,
   "id": "abff9541",
   "metadata": {},
   "outputs": [],
   "source": []
  },
  {
   "cell_type": "code",
   "execution_count": null,
   "id": "db0d35f3",
   "metadata": {},
   "outputs": [],
   "source": []
  },
  {
   "cell_type": "markdown",
   "id": "aab40163",
   "metadata": {},
   "source": [
    "## "
   ]
  }
 ],
 "metadata": {
  "kernelspec": {
   "display_name": "SageMath 9.6",
   "language": "sage",
   "name": "sagemath-9.6"
  },
  "language_info": {
   "codemirror_mode": {
    "name": "ipython",
    "version": 3
   },
   "file_extension": ".py",
   "mimetype": "text/x-python",
   "name": "python",
   "nbconvert_exporter": "python",
   "pygments_lexer": "ipython3",
   "version": "3.10.3"
  }
 },
 "nbformat": 4,
 "nbformat_minor": 5
}
