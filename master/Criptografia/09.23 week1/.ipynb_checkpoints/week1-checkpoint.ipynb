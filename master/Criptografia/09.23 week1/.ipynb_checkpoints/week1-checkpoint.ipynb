{
 "cells": [
  {
   "cell_type": "markdown",
   "id": "689c0814",
   "metadata": {},
   "source": [
    "# Three classic encripted messages with increasing security\n",
    "\n",
    "\n",
    "\n",
    "## 1 - A monoalphabetical cipher\n",
    "\n",
    "The first one \"msg1\" is the result of applying a simple mono-alphabetic transformation.\n",
    "\n",
    "Statistics for the occurence of each character in texts of this kind (portuguese) are given by the dictionary PTstats\n",
    "\n",
    "### Before executing *anything* you need to obtain a file named \"work??.py\" and rename it as \"data.py\"."
   ]
  },
  {
   "cell_type": "code",
   "execution_count": 1,
   "id": "c3b199f3",
   "metadata": {},
   "outputs": [
    {
     "data": {
      "image/png": "[encoded data removed]",
      "text/plain": [
       "Graphics object consisting of 1 graphics primitive"
      ]
     },
     "metadata": {},
     "output_type": "display_data"
    }
   ],
   "source": [
    "import string\n",
    "\n",
    "from data import *\n",
    "\n",
    "\n",
    "display(bar_chart([Stats[c] for c in string.ascii_lowercase]))"
   ]
  },
  {
   "cell_type": "markdown",
   "id": "daeadb3a",
   "metadata": {},
   "source": [
    "The message was converted to a numerical code: 'a'->1, 'b'->2,..."
   ]
  },
  {
   "cell_type": "markdown",
   "id": "8efa1a08",
   "metadata": {},
   "source": [
    "### It should be quite easy to decript this message without almost any programming involved"
   ]
  },
  {
   "cell_type": "code",
   "execution_count": 2,
   "id": "97711c53",
   "metadata": {},
   "outputs": [],
   "source": [
    "#print(msg1)"
   ]
  },
  {
   "cell_type": "code",
   "execution_count": 3,
   "id": "8a45f9ec",
   "metadata": {},
   "outputs": [
    {
     "data": {
      "image/png": "[encoded data removed]",
      "text/plain": [
       "Graphics object consisting of 1 graphics primitive"
      ]
     },
     "metadata": {},
     "output_type": "display_data"
    },
    {
     "name": "stdout",
     "output_type": "stream",
     "text": [
      "{'w': 0.000463854585819342, 'y': 0.000539614263910087, 'k': 0.000818787290134591, 'x': 0.00240197030664632, 'z': 0.0032743166366033, 'j': 0.00352573886499237, 'h': 0.00713098376578327, 'q': 0.00836325794366588, 'b': 0.00992854169557375, 'f': 0.010520743721382, 'g': 0.0126298043568753, 'v': 0.0133593728319689, 'l': 0.0286513112251977, 'p': 0.0291236298043569, 'u': 0.0385138060219231, 'm': 0.0414230609130012, 'c': 0.0447716109338143, 't': 0.0495047870126266, 'n': 0.0538477868738726, 'd': 0.0558000555015957, 'r': 0.069451089218815, 'i': 0.0698455668100458, 's': 0.0782698765089496, 'o': 0.108550992091023, 'e': 0.120706257804912, 'a': 0.138583183016512}\n",
      "{4: 0, 12: 0, 17: 1, 26: 1, 25: 5, 7: 8, 2: 9, 19: 9, 10: 11, 23: 12, 21: 14, 14: 21, 11: 24, 5: 27, 15: 30, 1: 35, 6: 39, 20: 49, 9: 51, 13: 52, 24: 66, 16: 77, 3: 82, 18: 96, 22: 136, 8: 145}\n"
     ]
    }
   ],
   "source": [
    "import numpy as np \n",
    "\n",
    "d=dict()\n",
    "\n",
    "for i in range(1,27):\n",
    "    d[i] = 0\n",
    "\n",
    "for i in msg1:\n",
    "    d[i] += 1\n",
    "\n",
    "    \n",
    "#print(d)\n",
    "display(bar_chart([d[i] for i in range(1,27)]))\n",
    "#display(bar_chart([Stats[c] for c in string.ascii_lowercase]))\n",
    "print({k: v for k, v in sorted(Stats.items(), key=lambda item: item[1])})\n",
    "print({k: v for k, v in sorted(d.items(), key=lambda item: item[1])})\n"
   ]
  },
  {
   "cell_type": "code",
   "execution_count": 4,
   "id": "eacd29cf",
   "metadata": {},
   "outputs": [
    {
     "name": "stdout",
     "output_type": "stream",
     "text": [
      "olosrmeoattrdbelioliremeseodnaepvuthuardsrscaatsaiepaivrmotrdbetrsaiegapgrnetalaivudceiavupeitadcaadeobougadenenaqothuapbacadbeemodcamrnofianeuscaiprcjagrivrdrekecbairdatmtecbseodotasdenesrvdrfrmetleieeteroireneslassoestessapbaslusaitosutesmpehuacasdosselecosnesauteolaiemeonatevrmeasuivatfianesceriaavrdvaiiovaisoascrpoaeapavedmreloiaxmapadmredoiardonenedmeeassaiardohuaemrdatecamedosciedsloiceeoiamoineinaenafagaiariodoganosnajfrptashuafrjaietzudcosbozaliasrnadcaneialuqprmeteirosoeiasforutnosengaiseirosloprcrmosnalrdcoqepsateoaiedasseepcuiesamiaceirovaiepnoleicrnosomreprsceamotocepprnaineolosrmeoleipetadceieovogaidoneepredmenatomiecrmehuaqepsateombafrounanazedarionaenazudbonaiadudmroueomeivoenanajatqionatestedcagasaatfudmoastersmrdmotasasecaelossanodogovogaidoelosetoicasuqrcenasemeidarioenanajatqionanajedoslessenosteirosoeiasasmiagasoqiaosauedcrvoengaiseirotescetqateprenoaetrvoattotadcoshuaapaliolirofejhuasceonaessrdepeinosnajfrptashuafianesceriaavrdvaiiovaisrdcailiaceietnedmeietzudcosge"
     ]
    }
   ],
   "source": [
    "# Cifra caso as ocorrências de cada letra nesta msg correspondencem às ocorrencias dadas.\n",
    "for c in msg1:\n",
    "    letras=['m','h','s','w','p','c','j','a','n','b','l','y','d','v','u','i','k','o','q','t','g','e','f','r','z','x']\n",
    "    print(letras[c-1],end=\"\")"
   ]
  },
  {
   "cell_type": "code",
   "execution_count": 5,
   "id": "45338c0b",
   "metadata": {},
   "outputs": [
    {
     "name": "stdout",
     "output_type": "stream",
     "text": [
      "elesafieorravhildeldaifisievcoinpurbuoavsastoorsodinodpaferavhirasodigongacirolodpuvtidopunidrovtoovieheugovicicoqerbuonhotovhiifevtofacemdociustodnatjogadpavaikithodavorfrithsieverosvicisapvamafirlidiiriaedaicislosseisrissonhoslusodresurisfnibuotosvessilitescisourielodifiecoripafiosudpormdocistiadoopavpoddepodseostaneoionopivfailedoxfonovfaivedoavecicivfiiossodoavebuoifavoritofivestdivsledtiiedofedcidcoicomogodoadevegocescojmanrosbuomajodirzuvteshezoldosacovtocidoluqnafiridaeseidosmeaurcesicgodsidaeslenatafescolavteqinsorieodivossiintudisofdotidaepodincelidtacesefainastioferetinnacodcielesafielidnirovtidiepegodveciinaivficorefditafibuoqinsoriefhomaeucocozivoadecoicozuvhecodovuvfaeuiefidpeicocojorqdecorisrivtogosoormuvfeosriasfavferosositoilessocevegepegodveilesiredtosuqaticosifidvoadeicocojorqdecocojiveslissicesridaeseidososfdogoseqdoesouivtapeicgodsidaeristirqorinaiceoirapeorrerovtesbuoonoldeldaemijbuostiecoissavinidcescojmanrosbuomdocistiadoopavpoddepodsavtodldotidircivfidirzuvtesgi"
     ]
    }
   ],
   "source": [
    "for c in msg1:\n",
    "        letras=['f','b','s','w','n','t','j','o','c','h','l','y','v','p','u','d','k','e','q','r','g','i','m','a','z','x']\n",
    "        print(letras[c-1],end=\"\")\n",
    "\n",
    "\n"
   ]
  },
  {
   "cell_type": "markdown",
   "id": "730d160f",
   "metadata": {},
   "source": [
    "## 2 - A simple Vigenère message\n",
    "\n",
    "In the next message, \"msg2\", a simple Vigènere was used. The \"msg2\" was coded the same manner as \"msg1\". \n",
    "\n",
    "We suggest that you use the Friedman test to determine the period (the size of the key).\n",
    "\n",
    "Friedman proved that, for  a class of cyphers that includes Vigenère, given two (long) texts, $T$ and $T'$, of the same size ($|T|=|T'|$), and with the same coincidence index ($Ic(T)=Ic(T')$),  their correspondent cyphertexts $E(T)$ and $E(T')$ satisfy\n",
    "\n",
    "$$K(T,T')=\\sum_i \\frac{\\delta(E(T)_i,E(T')_i)}{|T|}\\sim Ic(T),$$\n",
    "where\n",
    "\n",
    "$$\\delta(a,b)=\\begin{cases}1& \\text{if }a=b,\\\\\n",
    "             0& \\text{otherwise,}\n",
    "        \\end{cases}$$\n",
    "$T_i$ denotes the $i$th letter of $T$, and $Ic(T)$ the coincidence index of $T$. \n",
    "\n",
    "\n",
    "Thus, if $P^j(T)$ denotes the $j$th circular permutation of $T$, and $C$ is criptogram resulting from applying a periodic cypher of period $p$, the succesion $(K(C,P^i(C))_i$ should have local maximums that differ by exactly $p$. \n",
    "\n",
    "Knowing the period, one can study the statistic of occurences of each $\\{C_{pi+j}\\mid i\\in\\mathbb{N}\\}_{j<p}$ that should be similar to the original statistic of the source message, only affected by the circular permutation corresponging to the acting character of the key used. \n",
    "\n",
    "The carefull observation of the referred statistics an some \"trial & error\" should be enough to crack the criptogram."
   ]
  },
  {
   "cell_type": "code",
   "execution_count": 6,
   "id": "64b6c916",
   "metadata": {},
   "outputs": [
    {
     "data": {
      "text/plain": [
       "1000"
      ]
     },
     "execution_count": 6,
     "metadata": {},
     "output_type": "execute_result"
    }
   ],
   "source": [
    "len(msg2)"
   ]
  },
  {
   "cell_type": "code",
   "execution_count": 7,
   "id": "7f19be32",
   "metadata": {
    "scrolled": true
   },
   "outputs": [
    {
     "name": "stdout",
     "output_type": "stream",
     "text": [
      "divisor de:\n",
      "635,635,635,390,390,425,415,305,90,90,90,215,215,215,90,310,190,275,190,275,190,275,190,275,275,155,155,155,85,85,85,85,15,"
     ]
    }
   ],
   "source": [
    "print('divisor de:')\n",
    "for p in range (997):\n",
    "    for q in range (996-p):\n",
    "        if [msg2[p],msg2[p+1],msg2[p+2],msg2[p+3]]==[msg2[p+q+1],msg2[p+q+2],msg2[p+q+3],msg2[p+q+4]]:\n",
    "            print(q+1,end=',')"
   ]
  },
  {
   "cell_type": "markdown",
   "id": "fc2c9e5c",
   "metadata": {},
   "source": [
    "Os divisores comuns são 5 e 1, logo a palavra deve ter comprimento 5.  "
   ]
  },
  {
   "cell_type": "code",
   "execution_count": 8,
   "id": "9a271780",
   "metadata": {},
   "outputs": [
    {
     "name": "stdout",
     "output_type": "stream",
     "text": [
      "0 : 20  ,  1 : 20  ,  2 : 20  ,  3 : 13  ,  4 : 2  ,  5 : 10  ,  6 : 11  ,  7 : 26  ,  8 : 26  ,  9 : 1  ,  10 : 20  ,  11 : 23  ,  12 : 25  ,  13 : 13  ,  14 : 13  ,  15 : 24  ,  16 : 5  ,  17 : 24  ,  18 : 26  ,  19 : 9  ,  20 : 8  ,  21 : 23  ,  22 : 14  ,  23 : 8  ,  24 : 11  ,  25 : 4  ,  26 : 17  ,  27 : 20  ,  28 : 11  ,  29 : 26  ,  30 : 4  ,  31 : 10  ,  32 : 14  ,  33 : 14  ,  34 : 1  ,  35 : 24  ,  36 : 19  ,  37 : 19  ,  38 : 22  ,  39 : 20  ,  40 : 3  ,  41 : 19  ,  42 : 24  ,  43 : 26  ,  44 : 3  ,  45 : 5  ,  46 : 5  ,  47 : 14  ,  48 : 14  ,  49 : 13  ,  50 : 3  ,  51 : 19  ,  52 : 25  ,  53 : 26  ,  54 : 9  ,  55 : 9  ,  56 : 22  ,  57 : 20  ,  58 : 9  ,  59 : 9  ,  60 : 18  ,  61 : 13  ,  62 : 20  ,  63 : 9  ,  64 : 9  ,  65 : 1  ,  66 : 8  ,  67 : 10  ,  68 : 25  ,  69 : 21  ,  70 : 16  ,  71 : 22  ,  72 : 14  ,  73 : 22  ,  74 : 17  ,  75 : 24  ,  76 : 20  ,  77 : 6  ,  78 : 13  ,  79 : 9  ,  80 : 16  ,  81 : 23  ,  82 : 26  ,  83 : 23  ,  84 : 20  ,  85 : 24  ,  86 : 17  ,  87 : 10  ,  88 : 8  ,  89 : 9  ,  90 : 7  ,  91 : 13  ,  92 : 6  ,  93 : 14  ,  94 : 13  ,  95 : 7  ,  96 : 5  ,  97 : 18  ,  98 : 22  ,  99 : 17  ,  100 : 8  ,  101 : 25  ,  102 : 18  ,  103 : 22  ,  104 : 26  ,  105 : 20  ,  106 : 20  ,  107 : 23  ,  108 : 26  ,  109 : 1  ,  110 : 20  ,  111 : 18  ,  112 : 25  ,  113 : 22  ,  114 : 11  ,  115 : 16  ,  116 : 19  ,  117 : 9  ,  118 : 26  ,  119 : 8  ,  120 : 16  ,  121 : 4  ,  122 : 20  ,  123 : 16  ,  124 : 25  ,  125 : 10  ,  126 : 9  ,  127 : 10  ,  128 : 14  ,  129 : 2  ,  130 : 16  ,  131 : 12  ,  132 : 6  ,  133 : 7  ,  134 : 9  ,  135 : 7  ,  136 : 11  ,  137 : 20  ,  138 : 14  ,  139 : 21  ,  140 : 20  ,  141 : 23  ,  142 : 10  ,  143 : 14  ,  144 : 13  ,  145 : 2  ,  146 : 7  ,  147 : 10  ,  148 : 9  ,  149 : 9  ,  150 : 20  ,  151 : 17  ,  152 : 21  ,  153 : 22  ,  154 : 26  ,  155 : 24  ,  156 : 23  ,  157 : 21  ,  158 : 22  ,  159 : 26  ,  160 : 16  ,  161 : 16  ,  162 : 14  ,  163 : 14  ,  164 : 10  ,  165 : 4  ,  166 : 5  ,  167 : 10  ,  168 : 8  ,  169 : 9  ,  170 : 24  ,  171 : 23  ,  172 : 9  ,  173 : 10  ,  174 : 25  ,  175 : 10  ,  176 : 9  ,  177 : 14  ,  178 : 14  ,  179 : 1  ,  180 : 4  ,  181 : 19  ,  182 : 23  ,  183 : 26  ,  184 : 15  ,  185 : 7  ,  186 : 9  ,  187 : 24  ,  188 : 14  ,  189 : 23  ,  190 : 2  ,  191 : 19  ,  192 : 18  ,  193 : 26  ,  194 : 22  ,  195 : 9  ,  196 : 5  ,  197 : 19  ,  198 : 26  ,  199 : 23  ,  200 : 19  ,  201 : 5  ,  202 : 11  ,  203 : 4  ,  204 : 20  ,  205 : 23  ,  206 : 5  ,  207 : 21  ,  208 : 13  ,  209 : 23  ,  210 : 19  ,  211 : 13  ,  212 : 12  ,  213 : 22  ,  214 : 9  ,  215 : 5  ,  216 : 5  ,  217 : 25  ,  218 : 13  ,  219 : 17  ,  220 : 16  ,  221 : 17  ,  222 : 6  ,  223 : 25  ,  224 : 26  ,  225 : 16  ,  226 : 23  ,  227 : 25  ,  228 : 22  ,  229 : 13  ,  230 : 11  ,  231 : 19  ,  232 : 23  ,  233 : 22  ,  234 : 11  ,  235 : 16  ,  236 : 20  ,  237 : 14  ,  238 : 15  ,  239 : 9  ,  240 : 1  ,  241 : 18  ,  242 : 6  ,  243 : 24  ,  244 : 17  ,  245 : 4  ,  246 : 18  ,  247 : 6  ,  248 : 7  ,  249 : 12  ,  250 : 4  ,  251 : 24  ,  252 : 10  ,  253 : 22  ,  254 : 2  ,  255 : 7  ,  256 : 19  ,  257 : 25  ,  258 : 26  ,  259 : 26  ,  260 : 16  ,  261 : 24  ,  262 : 6  ,  263 : 8  ,  264 : 10  ,  265 : 20  ,  266 : 17  ,  267 : 19  ,  268 : 22  ,  269 : 14  ,  270 : 20  ,  271 : 13  ,  272 : 23  ,  273 : 22  ,  274 : 9  ,  275 : 8  ,  276 : 25  ,  277 : 6  ,  278 : 11  ,  279 : 26  ,  280 : 24  ,  281 : 17  ,  282 : 10  ,  283 : 4  ,  284 : 26  ,  285 : 16  ,  286 : 18  ,  287 : 20  ,  288 : 4  ,  289 : 2  ,  290 : 20  ,  291 : 8  ,  292 : 10  ,  293 : 1  ,  294 : 13  ,  295 : 8  ,  296 : 24  ,  297 : 14  ,  298 : 17  ,  299 : 9  ,  300 : 1  ,  301 : 24  ,  302 : 10  ,  303 : 19  ,  304 : 2  ,  305 : 4  ,  306 : 23  ,  307 : 9  ,  308 : 26  ,  309 : 15  ,  310 : 24  ,  311 : 16  ,  312 : 1  ,  313 : 4  ,  314 : 11  ,  315 : 20  ,  316 : 18  ,  317 : 25  ,  318 : 26  ,  319 : 26  ,  320 : 20  ,  321 : 25  ,  322 : 19  ,  323 : 4  ,  324 : 12  ,  325 : 4  ,  326 : 23  ,  327 : 21  ,  328 : 10  ,  329 : 26  ,  330 : 21  ,  331 : 9  ,  332 : 23  ,  333 : 9  ,  334 : 9  ,  335 : 3  ,  336 : 8  ,  337 : 20  ,  338 : 8  ,  339 : 23  ,  340 : 7  ,  341 : 5  ,  342 : 23  ,  343 : 22  ,  344 : 21  ,  345 : 4  ,  346 : 23  ,  347 : 22  ,  348 : 16  ,  349 : 13  ,  350 : 20  ,  351 : 24  ,  352 : 6  ,  353 : 8  ,  354 : 10  ,  355 : 20  ,  356 : 17  ,  357 : 14  ,  358 : 9  ,  359 : 2  ,  360 : 20  ,  361 : 22  ,  362 : 21  ,  363 : 13  ,  364 : 13  ,  365 : 9  ,  366 : 9  ,  367 : 10  ,  368 : 24  ,  369 : 23  ,  370 : 20  ,  371 : 18  ,  372 : 8  ,  373 : 26  ,  374 : 22  ,  375 : 16  ,  376 : 8  ,  377 : 20  ,  378 : 13  ,  379 : 11  ,  380 : 4  ,  381 : 17  ,  382 : 18  ,  383 : 22  ,  384 : 26  ,  385 : 24  ,  386 : 19  ,  387 : 7  ,  388 : 22  ,  389 : 26  ,  390 : 7  ,  391 : 5  ,  392 : 9  ,  393 : 22  ,  394 : 1  ,  395 : 19  ,  396 : 19  ,  397 : 10  ,  398 : 14  ,  399 : 24  ,  400 : 20  ,  401 : 7  ,  402 : 25  ,  403 : 22  ,  404 : 11  ,  405 : 10  ,  406 : 16  ,  407 : 20  ,  408 : 4  ,  409 : 22  ,  410 : 9  ,  411 : 13  ,  412 : 25  ,  413 : 16  ,  414 : 20  ,  415 : 16  ,  416 : 8  ,  417 : 20  ,  418 : 24  ,  419 : 20  ,  420 : 20  ,  421 : 22  ,  422 : 14  ,  423 : 2  ,  424 : 23  ,  425 : 8  ,  426 : 9  ,  427 : 6  ,  428 : 7  ,  429 : 21  ,  430 : 4  ,  431 : 7  ,  432 : 23  ,  433 : 26  ,  434 : 4  ,  435 : 20  ,  436 : 23  ,  437 : 22  ,  438 : 16  ,  439 : 13  ,  440 : 5  ,  441 : 19  ,  442 : 9  ,  443 : 26  ,  444 : 26  ,  445 : 16  ,  446 : 23  ,  447 : 10  ,  448 : 13  ,  449 : 4  ,  450 : 24  ,  451 : 23  ,  452 : 25  ,  453 : 10  ,  454 : 2  ,  455 : 16  ,  456 : 17  ,  457 : 7  ,  458 : 26  ,  459 : 21  ,  460 : 3  ,  461 : 19  ,  462 : 9  ,  463 : 4  ,  464 : 9  ,  465 : 8  ,  466 : 9  ,  467 : 12  ,  468 : 16  ,  469 : 17  ,  470 : 3  ,  471 : 24  ,  472 : 10  ,  473 : 24  ,  474 : 9  ,  475 : 7  ,  476 : 16  ,  477 : 20  ,  478 : 8  ,  479 : 9  ,  480 : 7  ,  481 : 13  ,  482 : 6  ,  483 : 2  ,  484 : 17  ,  485 : 10  ,  486 : 16  ,  487 : 14  ,  488 : 9  ,  489 : 17  ,  490 : 8  ,  491 : 25  ,  492 : 7  ,  493 : 4  ,  494 : 26  ,  495 : 16  ,  496 : 16  ,  497 : 20  ,  498 : 2  ,  499 : 23  ,  500 : 16  ,  501 : 18  ,  502 : 20  ,  503 : 4  ,  504 : 2  ,  505 : 20  ,  506 : 5  ,  507 : 20  ,  508 : 11  ,  509 : 23  ,  510 : 19  ,  511 : 13  ,  512 : 20  ,  513 : 25  ,  514 : 23  ,  515 : 18  ,  516 : 19  ,  517 : 17  ,  518 : 4  ,  519 : 1  ,  520 : 20  ,  521 : 25  ,  522 : 8  ,  523 : 10  ,  524 : 21  ,  525 : 4  ,  526 : 25  ,  527 : 18  ,  528 : 2  ,  529 : 26  ,  530 : 16  ,  531 : 18  ,  532 : 9  ,  533 : 26  ,  534 : 1  ,  535 : 20  ,  536 : 18  ,  537 : 13  ,  538 : 10  ,  539 : 26  ,  540 : 19  ,  541 : 9  ,  542 : 14  ,  543 : 15  ,  544 : 9  ,  545 : 1  ,  546 : 13  ,  547 : 6  ,  548 : 16  ,  549 : 21  ,  550 : 5  ,  551 : 19  ,  552 : 26  ,  553 : 24  ,  554 : 23  ,  555 : 18  ,  556 : 19  ,  557 : 18  ,  558 : 10  ,  559 : 1  ,  560 : 20  ,  561 : 26  ,  562 : 14  ,  563 : 15  ,  564 : 2  ,  565 : 4  ,  566 : 22  ,  567 : 14  ,  568 : 10  ,  569 : 12  ,  570 : 20  ,  571 : 23  ,  572 : 14  ,  573 : 24  ,  574 : 9  ,  575 : 20  ,  576 : 18  ,  577 : 25  ,  578 : 13  ,  579 : 9  ,  580 : 8  ,  581 : 23  ,  582 : 10  ,  583 : 9  ,  584 : 3  ,  585 : 2  ,  586 : 10  ,  587 : 14  ,  588 : 7  ,  589 : 21  ,  590 : 20  ,  591 : 8  ,  592 : 10  ,  593 : 17  ,  594 : 17  ,  595 : 8  ,  596 : 7  ,  597 : 20  ,  598 : 9  ,  599 : 2  ,  600 : 24  ,  601 : 24  ,  602 : 20  ,  603 : 13  ,  604 : 22  ,  605 : 16  ,  606 : 23  ,  607 : 10  ,  608 : 26  ,  609 : 22  ,  610 : 9  ,  611 : 5  ,  612 : 20  ,  613 : 13  ,  614 : 13  ,  615 : 16  ,  616 : 16  ,  617 : 20  ,  618 : 14  ,  619 : 23  ,  620 : 3  ,  621 : 12  ,  622 : 20  ,  623 : 25  ,  624 : 13  ,  625 : 11  ,  626 : 9  ,  627 : 23  ,  628 : 26  ,  629 : 23  ,  630 : 10  ,  631 : 26  ,  632 : 14  ,  633 : 13  ,  634 : 13  ,  635 : 2  ,  636 : 20  ,  637 : 20  ,  638 : 13  ,  639 : 2  ,  640 : 10  ,  641 : 11  ,  642 : 6  ,  643 : 7  ,  644 : 25  ,  645 : 10  ,  646 : 9  ,  647 : 18  ,  648 : 26  ,  649 : 25  ,  650 : 10  ,  651 : 13  ,  652 : 8  ,  653 : 22  ,  654 : 23  ,  655 : 2  ,  656 : 5  ,  657 : 14  ,  658 : 10  ,  659 : 26  ,  660 : 2  ,  661 : 5  ,  662 : 10  ,  663 : 14  ,  664 : 2  ,  665 : 7  ,  666 : 19  ,  667 : 1  ,  668 : 4  ,  669 : 4  ,  670 : 4  ,  671 : 9  ,  672 : 18  ,  673 : 22  ,  674 : 22  ,  675 : 9  ,  676 : 9  ,  677 : 8  ,  678 : 4  ,  679 : 24  ,  680 : 16  ,  681 : 8  ,  682 : 6  ,  683 : 24  ,  684 : 23  ,  685 : 2  ,  686 : 9  ,  687 : 18  ,  688 : 10  ,  689 : 26  ,  690 : 16  ,  691 : 7  ,  692 : 6  ,  693 : 10  ,  694 : 26  ,  695 : 20  ,  696 : 7  ,  697 : 20  ,  698 : 8  ,  699 : 13  ,  700 : 3  ,  701 : 8  ,  702 : 6  ,  703 : 8  ,  704 : 23  ,  705 : 8  ,  706 : 5  ,  707 : 17  ,  708 : 2  ,  709 : 3  ,  710 : 3  ,  711 : 23  ,  712 : 9  ,  713 : 10  ,  714 : 1  ,  715 : 8  ,  716 : 9  ,  717 : 26  ,  718 : 14  ,  719 : 12  ,  720 : 24  ,  721 : 23  ,  722 : 8  ,  723 : 10  ,  724 : 1  ,  725 : 3  ,  726 : 19  ,  727 : 24  ,  728 : 14  ,  729 : 23  ,  730 : 8  ,  731 : 20  ,  732 : 23  ,  733 : 26  ,  734 : 14  ,  735 : 20  ,  736 : 22  ,  737 : 14  ,  738 : 25  ,  739 : 23  ,  740 : 8  ,  741 : 21  ,  742 : 26  ,  743 : 26  ,  744 : 20  ,  745 : 23  ,  746 : 9  ,  747 : 21  ,  748 : 26  ,  749 : 26  ,  750 : 2  ,  751 : 13  ,  752 : 25  ,  753 : 4  ,  754 : 26  ,  755 : 16  ,  756 : 19  ,  757 : 17  ,  758 : 26  ,  759 : 4  ,  760 : 16  ,  761 : 22  ,  762 : 12  ,  763 : 4  ,  764 : 3  ,  765 : 1  ,  766 : 13  ,  767 : 19  ,  768 : 4  ,  769 : 24  ,  770 : 16  ,  771 : 22  ,  772 : 6  ,  773 : 14  ,  774 : 3  ,  775 : 16  ,  776 : 7  ,  777 : 6  ,  778 : 14  ,  779 : 9  ,  780 : 22  ,  781 : 13  ,  782 : 26  ,  783 : 7  ,  784 : 17  ,  785 : 3  ,  786 : 13  ,  787 : 21  ,  788 : 22  ,  789 : 26  ,  790 : 20  ,  791 : 7  ,  792 : 10  ,  793 : 9  ,  794 : 23  ,  795 : 5  ,  796 : 22  ,  797 : 14  ,  798 : 9  ,  799 : 11  ,  800 : 24  ,  801 : 20  ,  802 : 14  ,  803 : 10  ,  804 : 14  ,  805 : 16  ,  806 : 8  ,  807 : 6  ,  808 : 25  ,  809 : 23  ,  810 : 5  ,  811 : 5  ,  812 : 23  ,  813 : 22  ,  814 : 9  ,  815 : 18  ,  816 : 5  ,  817 : 23  ,  818 : 13  ,  819 : 13  ,  820 : 24  ,  821 : 22  ,  822 : 6  ,  823 : 10  ,  824 : 24  ,  825 : 20  ,  826 : 22  ,  827 : 6  ,  828 : 15  ,  829 : 17  ,  830 : 18  ,  831 : 5  ,  832 : 8  ,  833 : 10  ,  834 : 21  ,  835 : 4  ,  836 : 24  ,  837 : 6  ,  838 : 9  ,  839 : 2  ,  840 : 4  ,  841 : 23  ,  842 : 10  ,  843 : 15  ,  844 : 9  ,  845 : 4  ,  846 : 6  ,  847 : 20  ,  848 : 9  ,  849 : 1  ,  850 : 2  ,  851 : 5  ,  852 : 10  ,  853 : 14  ,  854 : 2  ,  855 : 7  ,  856 : 19  ,  857 : 24  ,  858 : 4  ,  859 : 2  ,  860 : 16  ,  861 : 16  ,  862 : 14  ,  863 : 22  ,  864 : 22  ,  865 : 4  ,  866 : 23  ,  867 : 10  ,  868 : 10  ,  869 : 1  ,  870 : 8  ,  871 : 9  ,  872 : 26  ,  873 : 14  ,  874 : 24  ,  875 : 7  ,  876 : 13  ,  877 : 18  ,  878 : 26  ,  879 : 17  ,  880 : 7  ,  881 : 19  ,  882 : 24  ,  883 : 13  ,  884 : 13  ,  885 : 22  ,  886 : 13  ,  887 : 24  ,  888 : 15  ,  889 : 23  ,  890 : 8  ,  891 : 23  ,  892 : 6  ,  893 : 10  ,  894 : 20  ,  895 : 4  ,  896 : 11  ,  897 : 20  ,  898 : 8  ,  899 : 9  ,  900 : 22  ,  901 : 13  ,  902 : 24  ,  903 : 15  ,  904 : 26  ,  905 : 16  ,  906 : 13  ,  907 : 24  ,  908 : 22  ,  909 : 2  ,  910 : 7  ,  911 : 5  ,  912 : 1  ,  913 : 4  ,  914 : 9  ,  915 : 9  ,  916 : 5  ,  917 : 9  ,  918 : 26  ,  919 : 4  ,  920 : 20  ,  921 : 22  ,  922 : 9  ,  923 : 4  ,  924 : 2  ,  925 : 20  ,  926 : 26  ,  927 : 10  ,  928 : 9  ,  929 : 13  ,  930 : 1  ,  931 : 9  ,  932 : 10  ,  933 : 8  ,  934 : 23  ,  935 : 2  ,  936 : 5  ,  937 : 10  ,  938 : 14  ,  939 : 2  ,  940 : 7  ,  941 : 19  ,  942 : 6  ,  943 : 22  ,  944 : 20  ,  945 : 9  ,  946 : 25  ,  947 : 23  ,  948 : 22  ,  949 : 12  ,  950 : 16  ,  951 : 7  ,  952 : 6  ,  953 : 7  ,  954 : 20  ,  955 : 16  ,  956 : 23  ,  957 : 19  ,  958 : 16  ,  959 : 21  ,  960 : 16  ,  961 : 11  ,  962 : 23  ,  963 : 22  ,  964 : 4  ,  965 "
     ]
    },
    {
     "name": "stdout",
     "output_type": "stream",
     "text": [
      ": 16  ,  966 : 7  ,  967 : 6  ,  968 : 10  ,  969 : 24  ,  970 : 24  ,  971 : 22  ,  972 : 6  ,  973 : 15  ,  974 : 9  ,  975 : 18  ,  976 : 19  ,  977 : 18  ,  978 : 25  ,  979 : 17  ,  980 : 8  ,  981 : 24  ,  982 : 10  ,  983 : 1  ,  984 : 9  ,  985 : 3  ,  986 : 19  ,  987 : 10  ,  988 : 23  ,  989 : 9  ,  990 : 8  ,  991 : 24  ,  992 : 14  ,  993 : 22  ,  994 : 22  ,  995 : 24  ,  996 : 18  ,  997 : 14  ,  998 : 12  ,  999 : 3  ,  "
     ]
    }
   ],
   "source": [
    "for p in range (1000):\n",
    "    print(p,':',msg2[p],end='  ,  ')"
   ]
  },
  {
   "cell_type": "code",
   "execution_count": null,
   "id": "697c2b0b",
   "metadata": {},
   "outputs": [],
   "source": []
  },
  {
   "cell_type": "markdown",
   "id": "128a45f6",
   "metadata": {},
   "source": [
    "## 3 - Size of the key\n",
    "\n",
    "If the size of the cryptogram is kept as constant, the dificulty (on average) increases with the size of the key. \n",
    "\n",
    "In \"msg3\" a little more dificult to break cryptogram similar to \"msg2\" is here for you to try to crack."
   ]
  },
  {
   "cell_type": "code",
   "execution_count": 9,
   "id": "4f185062",
   "metadata": {},
   "outputs": [
    {
     "data": {
      "text/plain": [
       "1000"
      ]
     },
     "execution_count": 9,
     "metadata": {},
     "output_type": "execute_result"
    }
   ],
   "source": [
    "len(msg3)"
   ]
  },
  {
   "cell_type": "code",
   "execution_count": 10,
   "id": "b3169731",
   "metadata": {},
   "outputs": [
    {
     "name": "stdout",
     "output_type": "stream",
     "text": [
      "divisor de:\n",
      "420,420,84,84,264,552,552,552,300,264,228,228,"
     ]
    }
   ],
   "source": [
    "print('divisor de:')\n",
    "for p in range (997):\n",
    "    for q in range (996-p):\n",
    "        if [msg3[p],msg3[p+1],msg3[p+2],msg3[p+3]]==[msg3[p+q+1],msg3[p+q+2],msg3[p+q+3],msg3[p+q+4]]:\n",
    "            print(q+1,end=',')"
   ]
  },
  {
   "cell_type": "markdown",
   "id": "1d14095f",
   "metadata": {},
   "source": [
    "O mdc é 12, logo pode ter comprimento 1,2,3,4,6 ou 12."
   ]
  },
  {
   "cell_type": "code",
   "execution_count": 11,
   "id": "31b37099",
   "metadata": {},
   "outputs": [
    {
     "name": "stdout",
     "output_type": "stream",
     "text": [
      "xuipoueknwcccvqgdjrxiksgduuhtwegiaypduttsymgczqyppqaixekcckcgtqcolsehkzmpqttdjylredftkhdttqhwkdrtoqxnngbcpytpfusexhkciqrxbqgawivgjjcskbxgjrvkwtgenebaymvczukptydstekgozscvesedeluahygcvptkvbbwdbdsktafxbvqtcsqfgexmwgjjcschtpzfekyqlpqfgoasvqqdccjkbrjqhsquldufprhibtkiadokciyekkkiqtogjefpzwacjwgjtnmelwosgictdofwlwjjmdoycixxkqedddtcduvyxpkkjikcdctrlghxmsgdtgtgbqouqitqcgjmkqotyrguciskngibckcdioztkqxbcbcigeqemkrqktpjtanrbeejgkctdpwsgvacbtoqchfgkgofmrjqbozstqousvcrxnjxxgannaksduqlxukjcgvysohsgjasgbgdiosemgnsyugygafxttzubdutdixtxfetmhfusexphewsydqgjefqttwbchvhpnmsnlwgstvuaofjhtiqjxbqsomenoiuqpqwpbnrxvatmetuhiiigvajyxuftdnhhuoerttqdntigvwdrdextgfhhpwicvwdsakibtwqldkjtovyxhqdbpoucttytlqirxhyrahehrwhydcjgaeswknyetpjtsiefceepxcdpousnrwcldgdiasxhxesrdtsgexthcwsshcsdexhxkjudxeqrifsnowlmcvqseskxnwigaxqpdjpxiwsydfuaufrwcphmjzujmheegjtygkeeawetekdaggjxzfgtqzuyaikcsuelukibpfubohvtvepyrcetpwimgjtchcygdjwmcnelscdtgtgbchsmbwcpdfxtrwhydeuhsfvyqceyjpyiauskgismcuysewejwadydgiiaregfwjyscfprfxtnzuzpvucexxxgjsmcvhd"
     ]
    }
   ],
   "source": [
    "aux=[ord('q')-97,ord('u')-97,ord('a')-97,ord('t')-97,ord('r')-97,ord('o')-97]*1000\n",
    "tab = [([0]*26) for i in range(26)]\n",
    "for p in range (26):\n",
    "      tab[p]=list(range(p,26))+list(range(p))\n",
    "msg3alt=msg3\n",
    "for t in range (1000):\n",
    "    msg3alt[t]=msg3[t]-1    \n",
    "\n",
    "msg3fin=msg3alt\n",
    "for q in range(1000):\n",
    "    for w in range(26):\n",
    "        if tab[w][aux[q]]==msg3alt[q]:\n",
    "            msg3fin[q]=chr(w+97)\n",
    "    print(msg3fin[q],end='')"
   ]
  },
  {
   "cell_type": "markdown",
   "id": "ce38b812",
   "metadata": {},
   "source": [
    "## 4 - A more chalenging Vigenére\n",
    "\n",
    "In \"msg4\" is the result of applying another Vigenère but the result was embedded in a finite field, and thus the order of the original alphabet was not preserved.\n",
    "\n",
    "\n",
    "This means that the signature of frequencies of letters **will not be preserved** in the cryptogram, not even inside each  $S_i=\\{C_{pi+j}\\mid i\\in\\mathbb{N}\\}_{j<p}$. But it will be the same for all the $S_i$. For example. If $x$ and $y$ are images of two very frequent letters in the plaintext (say $a$ and $b$), then their distance will be preserved in the frequency bar-graph in every $S_i$. This sould allow you to crack this much more challenging cryptogram.\n",
    "\n",
    "**This cryptogram is not mandatory** for the current assignment. It is here for the more courageous to measure their own strength as crackers, and to understand that, altough \"easy\" to crack, these cyphers may need a good amount of preserverance to defeat (even quite simple ones like this)."
   ]
  },
  {
   "cell_type": "code",
   "execution_count": 12,
   "id": "abff9541",
   "metadata": {},
   "outputs": [
    {
     "name": "stdout",
     "output_type": "stream",
     "text": [
      "eleyjucklieojyuiwilqsoytsoiewhobyziikdhbnkilkpwyzunkjlqtneuqceeuqlzukcanyhyilqyqaokibiiutqreqzurwchysqchhelhliejjhsaktlpavebguauzjadqsqrcezceouzumyuuqeifhhiofhhahyzrowutqiotvguayziokhlwraizemkcldtwdledwvpbhwfyedewhqpwjyyaiqkhaojhuvkhhsalyaqljqjyojqstopuhjrkjlhapqtreidhveehhqsqqwhiiuphajepjezumuspycqlpuejootlwihlpsejjlheqdptoofvhfahuqnzeterwhhcoogbuepqtreiyujenfyutaujeejsldazeysoichhikrhhrwthidkuzfeyjhsuhepdtejbbazejbenynesaqscoyhlleogbupktlhaouyliojvjairlcnktpqsawbynpujqrhetqreqnyuhyuysqrphaheneajepjewewedeekeckbpieqsvcoqcnhajtliejxvhdayaqleqbcpkkjeckcvieryajonyvteoyjqejjyqsouukmbyscezucysyeujipeydaouldtweyuahezendekuvahleuryyumleyjucqsguaclgueshemwyvhmwuzjrklploachdtaspfazqjemacvhayqvheyetunzqteswbnknotvisakztiosvinkizeslhlvenykesmklbhaflhmejphakbllanwpkledpfanqzkayqzqgeksynefhheyuuepnyusilyvvazqkepwhhqcwhyuinqvfenqaycwsvcopqujoouaqoxeuimwuzjrkipjahyhdoouvisakzfreclyrkiyugeiaesoqvbocetqgeiahaeihjrwlpqtwtllentpjeruuulautemwuzjrkqhbtqhhtayqsbaodbcachhlayqvfinqaqckckyspumqnkuiqspyhdijyxk"
     ]
    }
   ],
   "source": [
    "aux=[ord('p')-97,ord('i')-97,ord('p')-97,ord('o')-97,ord('s')-97]*200\n",
    "tab = [([0]*26) for i in range(26)]\n",
    "for p in range (26):\n",
    "      tab[p]=list(range(p,26))+list(range(p))\n",
    "msg2alt=msg2\n",
    "for t in range (1000):\n",
    "    msg2alt[t]=msg2[t]-1    \n",
    "\n",
    "msg2fin=msg2alt\n",
    "for q in range(1000):\n",
    "    for w in range(26):\n",
    "        if tab[w][aux[q]]==msg2alt[q]:\n",
    "            msg2fin[q]=chr(w+97)\n",
    "    print(msg2fin[q],end='')"
   ]
  },
  {
   "cell_type": "code",
   "execution_count": null,
   "id": "0bccadf4",
   "metadata": {},
   "outputs": [],
   "source": []
  },
  {
   "cell_type": "markdown",
   "id": "9b3a9699",
   "metadata": {},
   "source": []
  }
 ],
 "metadata": {
  "kernelspec": {
   "display_name": "SageMath 9.6",
   "language": "sage",
   "name": "sagemath-9.6"
  },
  "language_info": {
   "codemirror_mode": {
    "name": "ipython",
    "version": 3
   },
   "file_extension": ".py",
   "mimetype": "text/x-python",
   "name": "python",
   "nbconvert_exporter": "python",
   "pygments_lexer": "ipython3",
   "version": "3.10.3"
  }
 },
 "nbformat": 4,
 "nbformat_minor": 5
}
