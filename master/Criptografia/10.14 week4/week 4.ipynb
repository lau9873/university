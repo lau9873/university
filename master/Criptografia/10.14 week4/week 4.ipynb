{
 "cells": [
  {
   "cell_type": "markdown",
   "metadata": {},
   "source": [
    "# Exercício 1"
   ]
  },
  {
   "cell_type": "code",
   "execution_count": 6,
   "metadata": {},
   "outputs": [],
   "source": [
    "F = FiniteField(2**(130)-5)\n",
    "PR.<X> = PolynomialRing(F)\n",
    "Key = (F.random_element(), F.random_element())\n",
    "Message = [F.random_element() for x in range(5)]\n",
    "def universal(K, M):\n",
    "    K1 = Key[0]\n",
    "    K2 = Key[1]\n",
    "    X = K2\n",
    "    return K1 + PR(Message)"
   ]
  },
  {
   "cell_type": "markdown",
   "metadata": {},
   "source": [
    "# Exercício 2"
   ]
  },
  {
   "cell_type": "code",
   "execution_count": 17,
   "metadata": {},
   "outputs": [],
   "source": [
    "from Cryptodome.Cipher import AES\n",
    "import hashlib\n",
    "import sys\n",
    "import binascii\n",
    "\n",
    "\n",
    "def encrypt(plaintext,key, mode):\n",
    "  encobj = AES.new(key, AES.MODE_GCM)\n",
    "  ciphertext,authTag=encobj.encrypt_and_digest(plaintext)\n",
    "  return(ciphertext,authTag,encobj.nonce)\n",
    "\n",
    "def decrypt(ciphertext,key, mode):\n",
    "  (ciphertext,  authTag, nonce) = ciphertext\n",
    "  encobj = AES.new(key,  mode, nonce)\n",
    "  return(encobj.decrypt_and_verify(ciphertext, authTag))\n",
    "\n",
    "\n"
   ]
  },
  {
   "cell_type": "code",
   "execution_count": 20,
   "metadata": {},
   "outputs": [
    {
     "ename": "NameError",
     "evalue": "name 'data' is not defined",
     "output_type": "error",
     "traceback": [
      "\u001b[0;31m---------------------------------------------------------------------------\u001b[0m",
      "\u001b[0;31mNameError\u001b[0m                                 Traceback (most recent call last)",
      "\u001b[0;32m/var/folders/vb/kghz7_1s13q5mc86mlsymsw00000gn/T/ipykernel_23459/4017139220.py\u001b[0m in \u001b[0;36m<module>\u001b[0;34m\u001b[0m\n\u001b[1;32m      4\u001b[0m \u001b[0mcipher\u001b[0m \u001b[0;34m=\u001b[0m \u001b[0mAES\u001b[0m\u001b[0;34m.\u001b[0m\u001b[0mnew\u001b[0m\u001b[0;34m(\u001b[0m\u001b[0mkey\u001b[0m\u001b[0;34m,\u001b[0m \u001b[0mAES\u001b[0m\u001b[0;34m.\u001b[0m\u001b[0mMODE_GCM\u001b[0m\u001b[0;34m)\u001b[0m\u001b[0;34m\u001b[0m\u001b[0;34m\u001b[0m\u001b[0m\n\u001b[1;32m      5\u001b[0m \u001b[0mnonce\u001b[0m \u001b[0;34m=\u001b[0m \u001b[0mcipher\u001b[0m\u001b[0;34m.\u001b[0m\u001b[0mnonce\u001b[0m\u001b[0;34m\u001b[0m\u001b[0;34m\u001b[0m\u001b[0m\n\u001b[0;32m----> 6\u001b[0;31m \u001b[0mciphertext\u001b[0m\u001b[0;34m,\u001b[0m \u001b[0mtag\u001b[0m \u001b[0;34m=\u001b[0m \u001b[0mcipher\u001b[0m\u001b[0;34m.\u001b[0m\u001b[0mencrypt_and_digest\u001b[0m\u001b[0;34m(\u001b[0m\u001b[0mdata\u001b[0m\u001b[0;34m)\u001b[0m\u001b[0;34m\u001b[0m\u001b[0;34m\u001b[0m\u001b[0m\n\u001b[0m",
      "\u001b[0;31mNameError\u001b[0m: name 'data' is not defined"
     ]
    }
   ],
   "source": [
    "from Cryptodome.Cipher import AES\n",
    "\n",
    "key = b'Sixteen byte key'\n",
    "cipher = AES.new(key, AES.MODE_GCM)\n",
    "nonce = cipher.nonce\n",
    "ciphertext, tag = cipher.encrypt_and_digest(data)"
   ]
  },
  {
   "cell_type": "code",
   "execution_count": 15,
   "metadata": {},
   "outputs": [
    {
     "name": "stdout",
     "output_type": "stream",
     "text": [
      "GCM Mode: Stream cipher and authenticated\n",
      "\n",
      "Message:\t hello how are you?\n",
      "Key:\t\t qwerty123\n",
      "Cipher:\t\t b'87a898b5479f0523821a1a44dc1021b39af6'\n",
      "Auth Msg:\t b'80f8f4ff52b28068ee3b82c9505d2b3a'\n",
      "Nonce:\t\t b'39daf9639981e342192d51a579dd58ef'\n",
      "\n",
      "\n",
      "Decrypted:\t hello how are you?\n"
     ]
    }
   ],
   "source": [
    "from Cryptodome.Cipher import AES\n",
    "import hashlib\n",
    "import sys\n",
    "import binascii\n",
    "\n",
    "\n",
    "plaintext='hello how are you?'\n",
    "password='qwerty123'\n",
    "\n",
    "\n",
    "if (len(sys.argv)>1):\n",
    "  plaintext=(sys.argv[1])\n",
    "if (len(sys.argv)>2):\n",
    "  password=(sys.argv[2])\n",
    "\n",
    "def encrypt(plaintext,key, mode):\n",
    "  encobj = AES.new(key, AES.MODE_GCM)\n",
    "  ciphertext,authTag=encobj.encrypt_and_digest(plaintext)\n",
    "  return(ciphertext,authTag,encobj.nonce)\n",
    "\n",
    "def decrypt(ciphertext,key, mode):\n",
    "  (ciphertext,  authTag, nonce) = ciphertext\n",
    "  encobj = AES.new(key,  mode, nonce)\n",
    "  return(encobj.decrypt_and_verify(ciphertext, authTag))\n",
    "\n",
    "key = hashlib.sha256(password.encode()).digest()\n",
    "\n",
    "print(\"GCM Mode: Stream cipher and authenticated\")\n",
    "print(\"\\nMessage:\\t\",plaintext)\n",
    "print(\"Key:\\t\\t\",password)\n",
    "\n",
    "\n",
    "ciphertext = encrypt(plaintext.encode(),key,AES.MODE_GCM)\n",
    "\n",
    "print(\"Cipher:\\t\\t\",binascii.hexlify(ciphertext[0]))\n",
    "print(\"Auth Msg:\\t\",binascii.hexlify(ciphertext[1]))\n",
    "print(\"Nonce:\\t\\t\",binascii.hexlify(ciphertext[2]))\n",
    "\n",
    "\n",
    "res= decrypt(ciphertext,key,AES.MODE_GCM)\n",
    "\n",
    "\n",
    "print (\"\\n\\nDecrypted:\\t\",res.decode())"
   ]
  },
  {
   "cell_type": "code",
   "execution_count": 33,
   "metadata": {},
   "outputs": [
    {
     "name": "stdout",
     "output_type": "stream",
     "text": [
      "\n",
      "Message:\t ola ola\n",
      "Key:\t\t b'\\x88\\xa8\\xea\\xb5\\xd7p%:B(\\xb5g\\xe00\\xbc\\xdf'\n",
      "Auth Msg:\t b'3167b1043d8e4dcbac5f3772be47c560'\n",
      "Nonce:\t\t b'3e0d505b74fe2bf6b8f6a714fe9b1ab2'\n",
      "Cipher:\t\t b'4300c7d2fe9ebf'\n",
      "\n",
      "\n",
      "Decrypted:\t ola ola\n"
     ]
    }
   ],
   "source": [
    "from Cryptodome.Cipher import AES\n",
    "import hashlib\n",
    "import sys\n",
    "import binascii\n",
    "import os\n",
    "\n",
    "\n",
    "plaintext='ola ola'\n",
    "password=os.urandom(16)\n",
    "\n",
    "def encrypt(plaintext,key, mode):\n",
    "    encobj = AES.new(key, AES.MODE_GCM)\n",
    "    ciphertext,authTag=encobj.encrypt_and_digest(plaintext)\n",
    "    return(ciphertext,authTag,encobj.nonce)\n",
    "\n",
    "def decrypt(ciphertext,key, mode):\n",
    "    (ciphertext,  authTag, nonce) = ciphertext\n",
    "    encobj = AES.new(key,  mode, nonce)\n",
    "    return(encobj.decrypt_and_verify(ciphertext, authTag))\n",
    "\n",
    "\n",
    "print(\"\\nMessage:\\t\",plaintext)\n",
    "print(\"Key:\\t\\t\",password)\n",
    "\n",
    "\n",
    "ciphertext = encrypt(plaintext.encode(),password,AES.MODE_GCM)\n",
    "\n",
    "print(\"Auth Msg:\\t\",binascii.hexlify(ciphertext[1]))\n",
    "print(\"Nonce:\\t\\t\",binascii.hexlify(ciphertext[2]))\n",
    "print(\"Cipher:\\t\\t\",binascii.hexlify(ciphertext[0]))\n",
    "\n",
    "\n",
    "res= decrypt(ciphertext,password,AES.MODE_GCM)\n",
    "\n",
    "\n",
    "print (\"\\n\\nDecrypted:\\t\",res.decode())\n",
    "\n"
   ]
  },
  {
   "cell_type": "code",
   "execution_count": null,
   "metadata": {},
   "outputs": [],
   "source": []
  }
 ],
 "metadata": {
  "kernelspec": {
   "display_name": "SageMath 9.6",
   "language": "sage",
   "name": "sagemath-9.6"
  },
  "language_info": {
   "codemirror_mode": {
    "name": "ipython",
    "version": 3
   },
   "file_extension": ".py",
   "mimetype": "text/x-python",
   "name": "python",
   "nbconvert_exporter": "python",
   "pygments_lexer": "ipython3",
   "version": "3.10.3"
  }
 },
 "nbformat": 4,
 "nbformat_minor": 4
}
