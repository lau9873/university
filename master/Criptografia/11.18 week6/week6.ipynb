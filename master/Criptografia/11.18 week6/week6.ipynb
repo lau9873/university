{
 "cells": [
  {
   "cell_type": "markdown",
   "id": "0bb5c5f2",
   "metadata": {},
   "source": [
    "## Exercício 1:"
   ]
  },
  {
   "cell_type": "code",
   "execution_count": 1,
   "id": "487f5a81",
   "metadata": {},
   "outputs": [
    {
     "name": "stdout",
     "output_type": "stream",
     "text": [
      "48\n"
     ]
    }
   ],
   "source": [
    "#!/usr/bin/env sage -python\n",
    "import sys\n",
    "import numpy as np\n",
    "from sage.all import *\n",
    "\n",
    "p = 7\n",
    "q = 11\n",
    "c = 20\n",
    "e = 13\n",
    "\n",
    "phi = (p-1)*(q-1) #cáluclo do phi\n",
    "\n",
    "_,d,_= xgcd(e,phi) #cálculo do inverso multiplicativo de phi que corresponde à chave privada\n",
    "\n",
    "m = (20**37) % 77 #plaintext\n",
    "\n",
    "print(m)\n"
   ]
  },
  {
   "cell_type": "markdown",
   "id": "3caa7946",
   "metadata": {},
   "source": [
    "## Exercício 2:\n",
    "Dado o n ser um número pequeno, é possível fatorizá-lo no terminal com recurso ao comando *$ factor*, depois, sabendo a chave pública e tendo os 2 primos que compõe n, fica fácil obter a chave privada, do seguinte modo:"
   ]
  },
  {
   "cell_type": "code",
   "execution_count": 2,
   "id": "0bef955d",
   "metadata": {},
   "outputs": [
    {
     "name": "stdout",
     "output_type": "stream",
     "text": [
      "(d: 725, n:2881)\n"
     ]
    }
   ],
   "source": [
    "#!/usr/bin/env sage -python\n",
    "import sys\n",
    "import numpy as np\n",
    "from sage.all import *\n",
    "\n",
    "n = 2881\n",
    "e = 65\n",
    "p = 43 #Obtido com recurso a factor\n",
    "q = 67 #Obtido com recurso a factor\n",
    "\n",
    "phi = (p-1)*(q-1) #Cálculo do phi\n",
    "\n",
    "_,d,_ = xgcd(e, phi) # cálculo do inverso multiplicativo de phi que corresponde à chave privada\n",
    "\n",
    "\n",
    "#condição necessária para o resultado dar correto\n",
    "if (d<0):\n",
    "    d = phi+d\n",
    "\n",
    "\n",
    "\n",
    "print('(d: '+ str(d) + ', n:' + str(n) + ')')"
   ]
  },
  {
   "cell_type": "markdown",
   "id": "94c8e08d",
   "metadata": {},
   "source": [
    "## Exercício 3:\n",
    "Ao não gerar um novo módulo, o Bob leva a que um atacante, tenha acesso à antiga chave privada publicada e, dado o caráter público da mesma, à antiga chave pública.\n",
    "Assim sendo, tendo acesso a estas duas chaves, é possível descobrir o phi(n) que o Bob não quer mudar.\n",
    "Com este phi(n) e com a nova chave pública, que também se encontra disponível para o atacante, é possível calcular o inverso multiplicativo e descobrir a chave privada, o que torna esta primitiva, insegura."
   ]
  },
  {
   "cell_type": "markdown",
   "id": "f2110f59",
   "metadata": {},
   "source": [
    "## Exercício 4:\n",
    "Dado o atacante possuir a chave pública e o tamanho da mensagem enviada ser bastante reduzido (assumindo que é um número portugês, seriam 9 números), utilizando a chave pública pode realizar um ataque de dicionário no qual cifra todas as combinações de 9 dígitos possíveis (sendo que este número pode reduzir assumindo que começará por 9 se for um número móvel) e ver quando é que o texto cifrado coincide com o enviado."
   ]
  }
 ],
 "metadata": {
  "kernelspec": {
   "display_name": "SageMath 9.6",
   "language": "sage",
   "name": "sagemath-9.6"
  },
  "language_info": {
   "codemirror_mode": {
    "name": "ipython",
    "version": 3
   },
   "file_extension": ".py",
   "mimetype": "text/x-python",
   "name": "python",
   "nbconvert_exporter": "python",
   "pygments_lexer": "ipython3",
   "version": "3.10.3"
  }
 },
 "nbformat": 4,
 "nbformat_minor": 5
}
