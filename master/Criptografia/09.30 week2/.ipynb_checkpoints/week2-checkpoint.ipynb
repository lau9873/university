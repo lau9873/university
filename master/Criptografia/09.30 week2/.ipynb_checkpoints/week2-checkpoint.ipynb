{
 "cells": [
  {
   "cell_type": "markdown",
   "metadata": {},
   "source": [
    "# Exercício 1"
   ]
  },
  {
   "cell_type": "code",
   "execution_count": 1,
   "metadata": {},
   "outputs": [
    {
     "name": "stdout",
     "output_type": "stream",
     "text": [
      "Probabilidade de 0 a 4 =  0.00784313725490196\n",
      "Probabilidade de 5 a 255 =  0.00392156862745098\n"
     ]
    }
   ],
   "source": [
    "import numpy as np\n",
    "\n",
    "modA = [0] * 256\n",
    "p = 251\n",
    "modA = np.array(modA)\n",
    "\n",
    "def mod_fill():\n",
    "    for i in range (256):\n",
    "        modA[i] = i % p\n",
    "        \n",
    "\n",
    "def solve():\n",
    "    den = 2**8 - 1;\n",
    "    for i in range (251):\n",
    "        num = (modA == i).sum()\n",
    "        #print(\"Ocorrência de \", i, \": \", (modA == i).sum())\n",
    "        #print(\"Probabilidade de\", i, \"= \", num/den)\n",
    "    num1 = (modA == 0).sum()\n",
    "    print(\"Probabilidade de 0 a 4 = \", num1/den)\n",
    "    num2 = (modA == 5).sum()\n",
    "    print(\"Probabilidade de 5 a 255 = \", num2/den)\n",
    "\n",
    "mod_fill()\n",
    "solve()"
   ]
  },
  {
   "cell_type": "code",
   "execution_count": 15,
   "metadata": {
    "scrolled": true
   },
   "outputs": [
    {
     "name": "stdout",
     "output_type": "stream",
     "text": [
      "Alínea a) length = 8:\n",
      "\n",
      "Probabilidade de 0 a 4 = 0.00781250000000000\n",
      "Probabilidade de 5 a 255 = 0.00390625000000000\n",
      "\n",
      "Alínea b) length = 64:\n",
      "\n",
      "Probabilidade de 0 a 68 = 0.00398406374501992\n",
      "Probabilidade de 69 a 18446744073709551615 = 0.00398406374501992\n"
     ]
    }
   ],
   "source": [
    "import numpy as np\n",
    "\n",
    "fst_prob = 0\n",
    "snd_prob = 0\n",
    "\n",
    "def solve(p, length):\n",
    "    den = 2**length\n",
    "    fst_index = (den%p) - 1\n",
    "    fst_prob = (den//p + 1) / den\n",
    "    snd_prob = (den//p) / den\n",
    "    print(\"Probabilidade de 0 a\", fst_index, \"=\", N(fst_prob))\n",
    "    print(\"Probabilidade de\", fst_index+1,\"a\", den-1, \"=\", N(snd_prob))\n",
    "    return N(fst_prob), N(snd_prob), fst_index\n",
    "    \n",
    "\n",
    "print(\"Alínea a) length = 8:\")\n",
    "print()\n",
    "(p1,l1,f1) = solve(251,8)\n",
    "print()\n",
    "print(\"Alínea b) length = 64:\")\n",
    "print()\n",
    "(p2,l2,f2) = solve(251,64)"
   ]
  },
  {
   "cell_type": "markdown",
   "metadata": {},
   "source": [
    "#### Alínea c)\n",
    "As distribuições não são completamente uniformes pois existem sempre diferenças de probabilidades de um subconjunto de S para o outro.\n",
    "\n",
    "Esta diferença é sempre 1/2^(length da bitstring).\n",
    "\n",
    "Conforme aumentamos o tamanho da bit string, menores são estas diferenças, aproximando-se de uma distribuição uniforme.\n",
    "\n",
    "Esta distância a uma distribuição uniforme é-nos dada pelo cálculo da entropia."
   ]
  },
  {
   "cell_type": "markdown",
   "metadata": {},
   "source": [
    "# Exercício 2\n",
    "Como p = 2^8 divide 2^8 e 2^64 (resto 0), não existem valores que não apareçam nas partições do conjunto C pois todas as partições têm o mesmo tamanho.\n",
    "\n",
    "Isto verifica-se, pois sempre que p divide o número de bit strings possíveis (dado por 2 ^ length) o resto da divisão é sempre 0 e consequentemente temos uma distribuição uniforme."
   ]
  },
  {
   "cell_type": "code",
   "execution_count": 19,
   "metadata": {},
   "outputs": [
    {
     "name": "stdout",
     "output_type": "stream",
     "text": [
      "Probabilidade de 0 a 4 = 0.00781250000000000\n",
      "Probabilidade de 5 a 255 = 0.00390625000000000\n",
      "8.14843750000000\n"
     ]
    }
   ],
   "source": [
    "import math\n",
    "def entropy(plf, length):\n",
    "    p = plf[0]\n",
    "    l = plf[1]\n",
    "    f = plf[2]\n",
    "    expr1 = -p*math.log(p,2)*(f+1)\n",
    "    expr2 = -l*math.log(l,2)*(2**length-f)\n",
    "    print(expr1 + expr2)\n",
    "\n",
    "entropy(solve(251,8),8)\n",
    "    "
   ]
  },
  {
   "cell_type": "code",
   "execution_count": 16,
   "metadata": {},
   "outputs": [
    {
     "name": "stdout",
     "output_type": "stream",
     "text": [
      "8.1484375\n"
     ]
    }
   ],
   "source": [
    "def entropy_general(k,p):\n",
    "    den = 2**k\n",
    "    fst_index = (den%p) - 1\n",
    "    fst_prob = (den//p + 1) / den\n",
    "    snd_prob = (den//p) / den\n",
    "    expr1 = -fst_prob*math.log(fst_prob,2)*(fst_index+1)\n",
    "    expr2 = -snd_prob*math.log(snd_prob,2)*(2**k-fst_index)\n",
    "    return expr1+expr2\n",
    "    \n",
    "    \n",
    "print(entropy_general(8,251))\n",
    "    "
   ]
  },
  {
   "cell_type": "markdown",
   "metadata": {},
   "source": [
    "# Exercício 5\n",
    "\n",
    "Começando pela flag '-n', esta flag diz que apenas serão considerados 'length' bytes do input obtido, ou seja, no contexto dado, 32 bytes. De seguida, a opção '-e', serve para formatar o output de acordo com uma 'format string' passada. Neste caso, a dada no exemplo. E por fim passamos o diretório a partir de onde se extrai aleatoriedade, o '/dev/urandom'\n",
    "\n",
    "## a) $dd if=/dev/random bs=32 count=1\n",
    "\n",
    "## b) $openssl rand -out <output_file> -hex 32\n"
   ]
  },
  {
   "cell_type": "markdown",
   "metadata": {},
   "source": [
    "# Exercício 6\n",
    "Conforme o tamanho da chave aumenta, o tempo de geração cresce exponencialmente pois é computacionalmente mais exigente gerar primos com tamanhos cada vez maiores, o oposto acontece quando se diminui o tamanho da chave."
   ]
  },
  {
   "cell_type": "markdown",
   "metadata": {},
   "source": [
    "# Exercício 7\n",
    "Conforme no exercício anterior, o aumento do tamanho da chave leva a um aumento consideravelmente maior do tempo de geração dos parâmetros, este processo é bem maior que o de geração de chaves RSA."
   ]
  }
 ],
 "metadata": {
  "kernelspec": {
   "display_name": "SageMath 9.6",
   "language": "sage",
   "name": "sagemath-9.6"
  },
  "language_info": {
   "codemirror_mode": {
    "name": "ipython",
    "version": 3
   },
   "file_extension": ".py",
   "mimetype": "text/x-python",
   "name": "python",
   "nbconvert_exporter": "python",
   "pygments_lexer": "ipython3",
   "version": "3.10.3"
  }
 },
 "nbformat": 4,
 "nbformat_minor": 4
}
